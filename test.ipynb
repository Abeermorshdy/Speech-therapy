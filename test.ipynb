{
 "cells": [
  {
   "cell_type": "code",
   "execution_count": 2,
   "metadata": {},
   "outputs": [
    {
     "name": "stdout",
     "output_type": "stream",
     "text": [
      "Average Similarity: 0.6494081020355225\n"
     ]
    }
   ],
   "source": [
    "import pickle\n",
    "from E_model1 import SimilarityCalculator\n",
    "# Load the class instance from the .pkl file\n",
    "with open('similarity_calculator.pkl', 'rb') as file:\n",
    "    similarity_calculator = pickle.load(file)\n",
    "\n",
    "# Now you can use the methods of the loaded class instance\n",
    "\n",
    "# Example usage:\n",
    "file_path = \"English_sentences.txt\"\n",
    "folder_path = \"English_records\"\n",
    "average_similarity = similarity_calculator.calculate_average_similarity_english(file_path, folder_path)\n",
    "print(\"Average Similarity:\", average_similarity)\n"
   ]
  }
 ],
 "metadata": {
  "kernelspec": {
   "display_name": "Python 3",
   "language": "python",
   "name": "python3"
  },
  "language_info": {
   "codemirror_mode": {
    "name": "ipython",
    "version": 3
   },
   "file_extension": ".py",
   "mimetype": "text/x-python",
   "name": "python",
   "nbconvert_exporter": "python",
   "pygments_lexer": "ipython3",
   "version": "3.11.5"
  }
 },
 "nbformat": 4,
 "nbformat_minor": 2
}
