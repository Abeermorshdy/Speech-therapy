{
 "cells": [
  {
   "cell_type": "markdown",
   "metadata": {},
   "source": [
    "### Steps required:\n",
    "   1. for loop for each sentence on the txt document.\n",
    "   2. read the sentence.\n",
    "   3. wait the input sound for that sentence.\n",
    "   4. convert the sound to lyrics.\n",
    "   5. measure the similarity between the main sentence and the input.\n",
    "   6. save the results in the progress list."
   ]
  },
  {
   "cell_type": "markdown",
   "metadata": {},
   "source": [
    "#### First step"
   ]
  },
  {
   "cell_type": "code",
   "execution_count": 14,
   "metadata": {},
   "outputs": [],
   "source": [
    "import re\n",
    "\n",
    "def iterate_arabic_sentences(file_path):\n",
    "    S = []\n",
    "    with open(file_path, 'r', encoding='utf-8') as file:\n",
    "        content = file.read()\n",
    "        # Split the content into sentences using regular expressions\n",
    "        sentences = re.split(r'[.?!]', content)\n",
    "        # Filter out empty sentences\n",
    "        sentences = [sentence.strip() for sentence in sentences if sentence.strip()]\n",
    "        # Print each sentence\n",
    "        for sentence in sentences:\n",
    "            print(sentence)\n",
    "        return(sentences)"
   ]
  },
  {
   "cell_type": "code",
   "execution_count": 15,
   "metadata": {},
   "outputs": [
    {
     "name": "stdout",
     "output_type": "stream",
     "text": [
      "هيا بنا معا لنبدأ درسنا الاول\n",
      "ذهبت مع امى الى الحديقة\n"
     ]
    }
   ],
   "source": [
    "file_path = 'Sentences.txt'  # Replace with the actual file path\n",
    "S = iterate_arabic_sentences(file_path)"
   ]
  },
  {
   "cell_type": "code",
   "execution_count": 16,
   "metadata": {},
   "outputs": [
    {
     "data": {
      "text/plain": [
       "['هيا بنا معا لنبدأ درسنا الاول\\nذهبت مع امى الى الحديقة']"
      ]
     },
     "execution_count": 16,
     "metadata": {},
     "output_type": "execute_result"
    }
   ],
   "source": [
    "S"
   ]
  },
  {
   "cell_type": "markdown",
   "metadata": {},
   "source": [
    "#### Second step: Read the sentences"
   ]
  },
  {
   "cell_type": "code",
   "execution_count": 17,
   "metadata": {},
   "outputs": [],
   "source": [
    "from gtts import gTTS\n",
    "\n",
    "def read_sentence(S):\n",
    "    counter = 1\n",
    "    for sentence in S:\n",
    "        sentences = sentence.split('\\n')\n",
    "        for s in sentences:\n",
    "            file_name = f\"text_{counter}.mp3\"  \n",
    "            obj = gTTS(text=s, lang='ar', slow=False)\n",
    "            obj.save(file_name)\n",
    "            print(s)\n",
    "            counter += 1"
   ]
  },
  {
   "cell_type": "code",
   "execution_count": 18,
   "metadata": {},
   "outputs": [
    {
     "name": "stdout",
     "output_type": "stream",
     "text": [
      "هيا بنا معا لنبدأ درسنا الاول\n",
      "ذهبت مع امى الى الحديقة\n"
     ]
    }
   ],
   "source": [
    "read_sentence(S)"
   ]
  },
  {
   "cell_type": "markdown",
   "metadata": {},
   "source": []
  },
  {
   "cell_type": "code",
   "execution_count": null,
   "metadata": {},
   "outputs": [],
   "source": [
    "from gtts import gTTS\n",
    "from playsound import playsound\n",
    "import  speech_recognition as sr\n",
    "r=sr.Recognizer()\n",
    "with sr.Microphone() as src:\n",
    "    print('Say something....')\n",
    "    audio=r.listen(src)\n",
    "try:\n",
    "    t=r.recognize_google(audio,language='ar-AR')\n",
    "    print(t)\n",
    "    f=open('text.txt','a',encoding='utf-8')\n",
    "    f.writelines(t+'\\n')\n",
    "    f.close()\n",
    "    obj=gTTS(text=t,lang='ar',slow=False)\n",
    "    obj.save('text.mp3')\n",
    "    playsound('text.mp3')\n",
    "except sr.UnknownValueError as U:\n",
    "    print(U)\n",
    "except sr.RequestError as R:\n",
    "    print(R)"
   ]
  }
 ],
 "metadata": {
  "kernelspec": {
   "display_name": "Python 3",
   "language": "python",
   "name": "python3"
  },
  "language_info": {
   "codemirror_mode": {
    "name": "ipython",
    "version": 3
   },
   "file_extension": ".py",
   "mimetype": "text/x-python",
   "name": "python",
   "nbconvert_exporter": "python",
   "pygments_lexer": "ipython3",
   "version": "3.11.5"
  }
 },
 "nbformat": 4,
 "nbformat_minor": 2
}
